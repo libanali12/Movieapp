{
 "cells": [
  {
   "cell_type": "code",
   "execution_count": 29,
   "id": "d8a1d266",
   "metadata": {},
   "outputs": [],
   "source": [
    "import pandas as pd\n",
    "import numpy as np\n",
    "import matplotlib as plt \n",
    "from sklearn.feature_extraction.text import TfidfVectorizer\n",
    "from sklearn.feature_extraction.text import CountVectorizer\n",
    "from sklearn.neighbors import KNeighborsRegressor\n",
    "from sklearn.metrics.pairwise import cosine_similarity\n",
    "from itertools import permutations\n",
    "import streamlit as st\n",
    "import plotly.express as px\n",
    "import matplotlib.pyplot as plt\n",
    "from sklearn.metrics import jaccard_score \n",
    "from scipy.spatial.distance import pdist, squareform\n",
    "import sklearn.metrics.pairwise as pw\n",
    "from scipy import sparse\n",
    "from sklearn.metrics.pairwise import pairwise_distances"
   ]
  },
  {
   "cell_type": "code",
   "execution_count": 30,
   "id": "7fb6e7b3",
   "metadata": {
    "scrolled": true
   },
   "outputs": [],
   "source": [
    "user_ratings= pd.read_csv('/Users/MACBOOK/Downloads/user_ratings.csv')"
   ]
  },
  {
   "cell_type": "markdown",
   "id": "69f44ef3",
   "metadata": {},
   "source": [
    "# Exploratory Data Analysis"
   ]
  },
  {
   "cell_type": "code",
   "execution_count": 58,
   "id": "327830f1",
   "metadata": {},
   "outputs": [],
   "source": [
    "user3 = user_ratings.copy()"
   ]
  },
  {
   "cell_type": "code",
   "execution_count": 59,
   "id": "b35da574",
   "metadata": {},
   "outputs": [],
   "source": [
    "#creating list with unique genres\n",
    "genres = list(set('|'.join(list(user3[\"genres\"].unique())).split('|')))\n",
    "genres.remove('(no genres listed)')\n",
    "\n",
    "#Creating dummy columns for each genre\n",
    "for genre in genres:\n",
    "    user3[genre] = user3['genres'].map(lambda val: 1 if genre in val else 0)"
   ]
  },
  {
   "cell_type": "code",
   "execution_count": 60,
   "id": "ca674b8e",
   "metadata": {},
   "outputs": [],
   "source": [
    "genres=['Animation', 'Documentary', 'Western', 'Children', 'War', 'Horror',\n",
    "       'Action', 'Romance', 'Crime', 'Comedy', 'Thriller', 'Adventure',\n",
    "       'Musical', 'Film-Noir', 'Mystery', 'Drama', 'Sci-Fi', 'Fantasy',\n",
    "       'IMAX']"
   ]
  },
  {
   "cell_type": "code",
   "execution_count": 61,
   "id": "af94286b",
   "metadata": {},
   "outputs": [],
   "source": [
    "genere_counts = user3.loc[:,genres].sum().sort_values(ascending=False)"
   ]
  },
  {
   "cell_type": "code",
   "execution_count": 62,
   "id": "910db855",
   "metadata": {},
   "outputs": [],
   "source": [
    "user3['year'] = user3.title.str.extract(\"\\((\\d{4})\\)\", expand=True)"
   ]
  },
  {
   "cell_type": "code",
   "execution_count": 67,
   "id": "fefbe9fb",
   "metadata": {},
   "outputs": [],
   "source": [
    "yearly_release_counts = user3.groupby(user3['year']).size().sort_values(ascending=False)"
   ]
  },
  {
   "cell_type": "code",
   "execution_count": 69,
   "id": "39b2a498",
   "metadata": {},
   "outputs": [],
   "source": [
    "rating_counts = user3.groupby(user3['rating']).size().sort_values(ascending=False)"
   ]
  },
  {
   "cell_type": "markdown",
   "id": "9a709f24",
   "metadata": {},
   "source": [
    "# Simple Reccomendation "
   ]
  },
  {
   "cell_type": "code",
   "execution_count": 31,
   "id": "cbec76e5",
   "metadata": {},
   "outputs": [],
   "source": [
    "Average_ratings = pd.DataFrame(user_ratings.groupby('title')['rating'].mean())\n",
    "Average_ratings['Total Ratings'] = pd.DataFrame(user_ratings.groupby('title')['rating'].count())"
   ]
  },
  {
   "cell_type": "code",
   "execution_count": 32,
   "id": "352c7267",
   "metadata": {},
   "outputs": [],
   "source": [
    "C= Average_ratings['rating'].mean()\n",
    "m= Average_ratings['Total Ratings'].quantile(0.9)\n",
    "q_movies = Average_ratings.copy().loc[Average_ratings['Total Ratings'] >= m]"
   ]
  },
  {
   "cell_type": "code",
   "execution_count": 33,
   "id": "e96d7187",
   "metadata": {},
   "outputs": [],
   "source": [
    "def weighted_rating(x, m=m, C=C):\n",
    "    v = x['Total Ratings']\n",
    "    R = x['rating']\n",
    "    return (v/(v+m) * R) + (m/(m+v) * C)"
   ]
  },
  {
   "cell_type": "code",
   "execution_count": 34,
   "id": "b5720e7f",
   "metadata": {},
   "outputs": [],
   "source": [
    "q_movies['score'] = q_movies.apply(weighted_rating, axis=1)\n",
    "q_movies = q_movies.sort_values('score', ascending=False).reset_index()"
   ]
  },
  {
   "cell_type": "code",
   "execution_count": 35,
   "id": "09667e6e",
   "metadata": {},
   "outputs": [],
   "source": [
    "pop_movies = q_movies[['title','score']].head(16)"
   ]
  },
  {
   "cell_type": "markdown",
   "id": "a38f665f",
   "metadata": {},
   "source": [
    "# Collaborative Based Recommendation"
   ]
  },
  {
   "cell_type": "code",
   "execution_count": 36,
   "id": "490f7488",
   "metadata": {},
   "outputs": [],
   "source": [
    "user_ratings1=user_ratings.copy()"
   ]
  },
  {
   "cell_type": "code",
   "execution_count": 37,
   "id": "63af949f",
   "metadata": {},
   "outputs": [],
   "source": [
    "#creating list with unique genres\n",
    "genres = list(set('|'.join(list(user_ratings1[\"genres\"].unique())).split('|')))\n",
    "genres.remove('(no genres listed)')\n",
    "\n",
    "#Creating dummy columns for each genre\n",
    "for genre in genres:\n",
    "    user_ratings1[genre] = user_ratings1['genres'].map(lambda val: 1 if genre in val else 0)"
   ]
  },
  {
   "cell_type": "code",
   "execution_count": 38,
   "id": "fb1ca72c",
   "metadata": {},
   "outputs": [],
   "source": [
    "user_ratings1.drop('genres', axis=1,inplace= True)"
   ]
  },
  {
   "cell_type": "code",
   "execution_count": 39,
   "id": "18f0937d",
   "metadata": {},
   "outputs": [],
   "source": [
    "categories = ['Film-Noir', 'Adventure', 'Children',\n",
    "           'IMAX', 'Crime', 'Documentary', 'Fantasy', 'Musical', 'Romance',\n",
    "           'Mystery', 'Thriller', 'Animation', 'Action', 'Comedy', 'War', 'Drama',\n",
    "           'Western', 'Sci-Fi', 'Horror']"
   ]
  },
  {
   "cell_type": "code",
   "execution_count": 40,
   "id": "4b404886",
   "metadata": {},
   "outputs": [],
   "source": [
    "def item_based_recom(input_dataframe,title):    \n",
    "    pivot_item_based = pd.pivot_table(input_dataframe,\n",
    "                                      index='title',\n",
    "                                      columns=['userId'], values='rating')  \n",
    "    sparse_pivot = sparse.csr_matrix(pivot_item_based.fillna(0))\n",
    "    recommender = pw.cosine_similarity(sparse_pivot)\n",
    "    recommender_df = pd.DataFrame(recommender, \n",
    "                                  columns=pivot_item_based.index,\n",
    "                                  index=pivot_item_based.index)\n",
    "    ## Item Rating Based Cosine Similarity\n",
    "    cosine_df = pd.DataFrame(recommender_df[title].sort_values(ascending=False))\n",
    "    cosine_df.reset_index(level=0, inplace=True)\n",
    "    cosine_df.columns = ['title','cosine_sim']\n",
    "    return cosine_df"
   ]
  },
  {
   "cell_type": "code",
   "execution_count": 41,
   "id": "bc70eb21",
   "metadata": {},
   "outputs": [],
   "source": [
    "def pairwise_row_diff(dataframe,row1, row2,column_names):\n",
    "#     display(dataframe)\n",
    "     # Creates 2 Matrix to compare cosine similarity\n",
    "    matrix_row1 = [[dataframe.loc[row1,cat] for cat in column_names]] \n",
    "    matrix_row2 = [[dataframe.loc[row2,cat] for cat in column_names]] \n",
    "    return round(pw.cosine_similarity(matrix_row1,matrix_row2)[0][0],5)"
   ]
  },
  {
   "cell_type": "code",
   "execution_count": 42,
   "id": "83e4d91e",
   "metadata": {},
   "outputs": [],
   "source": [
    "def item_and_genre_based_recom(cosine_df,movies_df,categories,pairwise_row_diff=pairwise_row_diff):    \n",
    "## Item Rating and Gender Based Cosine Similarity\n",
    "    top_cos_genre = pd.merge(cosine_df, user1, on='title')\n",
    "    # Creating column with genre cosine similarity\n",
    "    top_cos_genre['genre_similarity'] = [pairwise_row_diff(top_cos_genre,0,row,categories) \n",
    "                                          for row in top_cos_genre.index.values]\n",
    "    return top_cos_genre[['title','cosine_sim','genre_similarity']]"
   ]
  },
  {
   "cell_type": "code",
   "execution_count": 43,
   "id": "5ac9d41f",
   "metadata": {},
   "outputs": [],
   "source": [
    "user1 = user_ratings1.groupby(['title']).sum().reset_index()"
   ]
  },
  {
   "cell_type": "code",
   "execution_count": 44,
   "id": "efd470dc",
   "metadata": {},
   "outputs": [],
   "source": [
    "term = user_ratings['title'].unique()"
   ]
  },
  {
   "cell_type": "code",
   "execution_count": 48,
   "id": "150e999a",
   "metadata": {},
   "outputs": [],
   "source": [
    "top_results=10"
   ]
  },
  {
   "cell_type": "markdown",
   "id": "87a45f30",
   "metadata": {},
   "source": [
    "# Content Based Recommender"
   ]
  },
  {
   "cell_type": "code",
   "execution_count": 52,
   "id": "70013512",
   "metadata": {},
   "outputs": [],
   "source": [
    "def get_recommendation(df):\n",
    "    cross_df=pd.crosstab(df['title'],df['genres'])\n",
    "    jaccard_distance = pdist(cross_df.values,metric='cosine')\n",
    "    square_jaccard_distance = squareform(jaccard_distance)\n",
    "    jaccard_similarity_array = 1 - square_jaccard_distance\n",
    "    distance_df= pd.DataFrame(jaccard_similarity_array,\n",
    "                         index=cross_df.index,\n",
    "                         columns=cross_df.index)\n",
    "    return distance_df"
   ]
  },
  {
   "cell_type": "code",
   "execution_count": 83,
   "id": "854f727c",
   "metadata": {
    "scrolled": true
   },
   "outputs": [],
   "source": [
    "st.title(\"Movie Recommendation App\")\n",
    "menu = [\"Home\",\"Simple Recommender\",\"Collaborative Based Recommendation\",\"Content Based Recommender\"]\n",
    "choice = st.sidebar.selectbox(\"Menu\",menu)\n",
    "if choice == \"Home\":\n",
    "    st.subheader(\"Home\")\n",
    "    st.write('Movie Dataset')\n",
    "    st.dataframe(user_ratings.head(5))\n",
    "    st.subheader(\"Exploratory Data Analysis\")\n",
    "    fig1 = px.bar(genere_counts, x=genere_counts.values, y=genere_counts.index,\n",
    "             color_discrete_sequence=px.colors.diverging.Geyser,\n",
    "             height=600, width=900)\n",
    "    fig1.update_layout(template=\"plotly_white\",xaxis_showgrid=False,\n",
    "                  yaxis_showgrid=False)\n",
    "    fig1.update_traces( marker_line_color='rgb(8,48,107)',\n",
    "                  marker_line_width=2, opacity=0.6)\n",
    "    fig1.update_layout(showlegend=False, title=\"Genres Distribution\",\n",
    "                  xaxis_title=\"Count\",\n",
    "                  yaxis_title=\"Genres\")\n",
    "    fig1.update_xaxes(showline=True, linewidth=1, linecolor='black')\n",
    "    fig1.update_yaxes(showline=True, linewidth=1, linecolor='black')\n",
    "    st.plotly_chart(fig1)\n",
    "    fig2 = px.bar(yearly_release_counts, x=yearly_release_counts.values, y=yearly_release_counts.index,\n",
    "             color_discrete_sequence=px.colors.sequential.Turbo,\n",
    "             height=600, width=900)\n",
    "    fig2.update_layout(template=\"plotly_white\",xaxis_showgrid=False,\n",
    "                  yaxis_showgrid=False)\n",
    "    fig2.update_traces( marker_line_color='rgb(8,48,107)',\n",
    "                  marker_line_width=2, opacity=0.6)\n",
    "    fig2.update_layout(showlegend=False, title=\"Genres Distribution\",\n",
    "                  xaxis_title=\"Release Year\",\n",
    "                  yaxis_title=\"Movie Release Years\")\n",
    "    fig2.update_xaxes(showline=True, linewidth=1, linecolor='black')\n",
    "    fig2.update_yaxes(showline=True, linewidth=1, linecolor='black')\n",
    "    st.plotly_chart(fig2)\n",
    "    fig3 = px.bar(rating_counts, x=rating_counts.index, y=rating_counts.values,\n",
    "             color_discrete_sequence=px.colors.sequential.Viridis,\n",
    "             height=600, width=900)\n",
    "    fig3.update_layout(template=\"plotly_white\",xaxis_showgrid=False,\n",
    "                  yaxis_showgrid=False)\n",
    "    fig3.update_traces( marker_line_color='rgb(8,48,107)',\n",
    "                  marker_line_width=2, opacity=0.6)\n",
    "    fig3.update_layout(showlegend=False, title=\"Distribution Of Movie Rating\",\n",
    "                  xaxis_title=\"Rating\",\n",
    "                  yaxis_title=\"Count\")\n",
    "    fig3.update_xaxes(showline=True, linewidth=1, linecolor='black')\n",
    "    fig3.update_yaxes(showline=True, linewidth=1, linecolor='black')\n",
    "    st.plotly_chart(fig3)\n",
    "elif choice == \"Simple Recommender\":\n",
    "    st.subheader(\"Simple Recommender\")\n",
    "    fig = px.bar(pop_movies, x='score', y='title', color='title',\n",
    "             color_discrete_sequence=px.colors.diverging.Geyser,\n",
    "             height=600, width=900)\n",
    "    fig.update_layout(template=\"plotly_white\",xaxis_showgrid=False,\n",
    "                  yaxis_showgrid=False)\n",
    "    fig.update_traces( marker_line_color='rgb(8,48,107)',\n",
    "                  marker_line_width=2, opacity=0.6)\n",
    "    fig.update_layout(showlegend=False, title=\"Rating\",\n",
    "                  xaxis_title=\"Rating out of 5\",\n",
    "                  yaxis_title=\"Movie Title\")\n",
    "    fig.update_xaxes(showline=True, linewidth=1, linecolor='black')\n",
    "    fig.update_yaxes(showline=True, linewidth=1, linecolor='black')\n",
    "    st.plotly_chart(fig)\n",
    "    st.dataframe(q_movies)\n",
    "elif choice == \"Collaborative Based Recommendation\":\n",
    "    st.subheader(\"Collaborative Based Recommendation\")\n",
    "    search_term = st.selectbox(label = \"Choose a movie you have seen\", options = term)\n",
    "    if st.button(\"Recommend\"):\n",
    "        content=item_and_genre_based_recom(item_based_recom(user_ratings1,search_term),user1,categories)\\\n",
    "           .sort_values('cosine_sim',ascending=False)\\\n",
    "            .sort_values('genre_similarity',ascending=False)[:top_results]\n",
    "        final_content= content.sort_values('cosine_sim',ascending=False).reset_index(drop=True)\n",
    "        st.write('Top 10 Most Similar Movies Based On Your Choice')\n",
    "        st.write(final_content['title'])\n",
    "else:\n",
    "    st.subheader(\"Content Based Recommender\")\n",
    "    search_term = st.selectbox(label = \"Choose a movie you have seen\", options = term)\n",
    "    if st.button(\"Recommend\"):\n",
    "        content1= get_recommendation(user_ratings)\n",
    "        result= content1[search_term].sort_values(ascending=False)\n",
    "        final_result= result[result>0]\n",
    "        st.write('Top Most Similar Movies Based On Your Choice')\n",
    "        st.write(final_result.index[1:11])\n",
    "        "
   ]
  },
  {
   "cell_type": "code",
   "execution_count": null,
   "id": "5a870d48",
   "metadata": {},
   "outputs": [],
   "source": []
  }
 ],
 "metadata": {
  "kernelspec": {
   "display_name": "Python 3",
   "language": "python",
   "name": "python3"
  },
  "language_info": {
   "codemirror_mode": {
    "name": "ipython",
    "version": 3
   },
   "file_extension": ".py",
   "mimetype": "text/x-python",
   "name": "python",
   "nbconvert_exporter": "python",
   "pygments_lexer": "ipython3",
   "version": "3.8.8"
  }
 },
 "nbformat": 4,
 "nbformat_minor": 5
}
